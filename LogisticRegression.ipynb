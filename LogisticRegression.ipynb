{
 "cells": [
  {
   "cell_type": "markdown",
   "id": "31be63a5-d870-4a2c-986b-133f475fe22c",
   "metadata": {},
   "source": [
    "<h1> <strong> <center> Problem Background: The Great Migration </center> </strong> </h1>\n",
    "\n",
    "In our ongoing efforts to ensure the safety of the migration to Earth Junior, we have developed a linear regression model that produces a human-zombie score ranging from 0 to 100. This score is designed to assess the likelihood of individuals being human or zombie based on various features collected during screening.\n",
    "\n",
    "To enhance our security measures, the spaceship station has deployed a specialized automated barrier system that utilizes the human-zombie scores to classify individuals into three distinct categories:\n",
    "\n",
    "- **Class 0: Score Range 0-33**: **Most Likely Human**  \n",
    "  Individuals in this range will be directed straight to the spaceship for immediate boarding.\n",
    "\n",
    "- **Class 1: Score Range 33-66**: **Need Further Tests**  \n",
    "  Those with scores in this range will be redirected to a testing facility for additional examinations to confirm their identity. They will be quarantined for a two-week observational period to ensure they do not pose a risk.\n",
    "\n",
    "- **Class 3: Score Range 66-100**: **Most Likely Zombies**  \n",
    "  Those scoring in this highest range will be denied entry to the spaceship, as they are deemed a significant threat to the safety of the remaining human population.\n",
    "\n",
    "This classification system aims to maximize the chances of a successful migration while ensuring that the risk of zombie infiltration is minimized."
   ]
  },
  {
   "cell_type": "markdown",
   "id": "03373c37",
   "metadata": {
    "id": "03373c37"
   },
   "source": [
    "### Introduction\n",
    "\n",
    "In this task, you will be applying Logistic Regression models for the provided dataset from scratch. A description of the problem statement is given at the start of this part.\n",
    "\n",
    "After this notebook you should be able to:\n",
    "\n",
    "- Implement a classifier using Logistic Regression.\n",
    "- Create a Logistic Regression model using simple `numpy`."
   ]
  },
  {
   "cell_type": "markdown",
   "id": "7a9dcc17-bd78-42a6-bf52-044df6c543bf",
   "metadata": {},
   "source": [
    "<center>\n",
    "  <img src = \"https://miro.medium.com/v2/resize:fit:1100/format:webp/1*RElrybCZ4WPsUfRwDl7fqA.png\">\n",
    "</center>\n",
    "\n",
    "One vs All (OvA) is a common technique to extend binary classifiers, like logistic regression, to handle multiclass classification tasks. For each class in the dataset, a logistic regression model is trained to distinguish that class from all other classes. For instance, for a `m` class classification, we will have `m` logistic regression classifiers in our pipeline. When making a prediction, each model outputs a probability that the instance belongs to its target class. The class with the highest probability across all models is chosen as the final prediction.\n",
    "\n",
    "In this part, we will be going over how to implement a Multiclass Logistic Regression (OvA) model from scratch. For a review of this concept, you can go over the course slides or go over this [resource](https://www.cs.rice.edu/~as143/COMP642_Spring22/Scribes/Lect5)."
   ]
  },
  {
   "cell_type": "markdown",
   "id": "74f4e279-4c7c-4b6c-a208-e5b607b41863",
   "metadata": {},
   "source": [
    "## Import Libraries"
   ]
  },
  {
   "cell_type": "code",
   "execution_count": 230,
   "id": "e61d1099-bde3-45aa-8d1d-5bfa6b169ecd",
   "metadata": {},
   "outputs": [],
   "source": [
    "import numpy as np\n",
    "import pandas as pd\n",
    "import matplotlib.pyplot as plt\n",
    "import seaborn as sns\n",
    "from sklearn.model_selection import train_test_split\n",
    "from sklearn.metrics import accuracy_score, f1_score, confusion_matrix, classification_report"
   ]
  },
  {
   "cell_type": "markdown",
   "id": "b5216e2a",
   "metadata": {
    "id": "b5216e2a",
    "tags": [
     "parameters"
    ]
   },
   "source": [
    "#### Dataset"
   ]
  },
  {
   "cell_type": "code",
   "execution_count": 231,
   "id": "c6ec0d6e",
   "metadata": {
    "id": "c6ec0d6e"
   },
   "outputs": [
    {
     "name": "stdout",
     "output_type": "stream",
     "text": [
      "Missing values per column:\n",
      " Height (cm)                     0\n",
      "Weight (kg)                     0\n",
      "Screen Time (hrs)               0\n",
      "Junk Food (days/week)           0\n",
      "Physical Activity (hrs/week)    0\n",
      "Task Completion (scale)         0\n",
      "Human-Zombie Score              0\n",
      "dtype: int64\n"
     ]
    }
   ],
   "source": [
    "df = pd.read_csv(\"human_zombie_dataset_v5.csv\")\n",
    "\n",
    "missing_values_count = df.isnull().sum()\n",
    "print(\"Missing values per column:\\n\", missing_values_count)\n",
    "\n",
    "for column in df.columns:\n",
    "    if df[column].isnull().any():\n",
    "        df[column].fillna(df[column].mean(), inplace=True)"
   ]
  },
  {
   "cell_type": "markdown",
   "id": "66384c63",
   "metadata": {
    "id": "66384c63"
   },
   "source": [
    "# Preprocessing\n",
    "\n",
    "In this step, you will need to make several changes to the dataset before we can proceed with the analysis. Follow the guidelines below:\n",
    "\n",
    "1. **Transform Labels**:  \n",
    "   Convert the labels from continuous scores to categorical labels based on the class descriptions provided earlier.  \n",
    "   This transformation is crucial for training the classifier effectively. \n",
    "\n",
    "2. **Perform Train-Test Split**:  \n",
    "   Split the dataset into training and testing sets (8:2), and then check the sizes of both.  \n",
    "   This step ensures that you have the right distribution of data for training and evaluation. \n",
    "\n",
    "3. **Normalize Data**:  \n",
    "   Utilize the `Scaler` class that you created in Part 1 to normalize the features of the dataset. "
   ]
  },
  {
   "cell_type": "code",
   "execution_count": 232,
   "id": "d8fe2f33",
   "metadata": {
    "id": "d8fe2f33"
   },
   "outputs": [],
   "source": [
    "def transformLabels(score):\n",
    "    if score >= 0 and score < 33:\n",
    "        return 0\n",
    "    elif score >= 33 and score < 66:\n",
    "        return 1\n",
    "    else:\n",
    "        return 2\n",
    "\n",
    "df['class_label'] = df['Human-Zombie Score'].apply(transformLabels)\n",
    "df.drop(columns = ['Human-Zombie Score'], inplace= True)"
   ]
  },
  {
   "cell_type": "code",
   "execution_count": 233,
   "id": "43b474ff",
   "metadata": {
    "id": "43b474ff"
   },
   "outputs": [
    {
     "name": "stdout",
     "output_type": "stream",
     "text": [
      "Size of X train: (800, 6)\n",
      "Size of X test: (200, 6)\n",
      "Size of Y train: (800,)\n",
      "Size of Y test: (200,)\n"
     ]
    }
   ],
   "source": [
    "X = df.drop(columns=['class_label'])\n",
    "y = df['class_label']\n",
    "\n",
    "X_train, X_test, y_train, y_test = train_test_split(X, y, test_size=0.2, random_state=42)\n",
    "\n",
    "print(\"Size of X train:\", X_train.shape)\n",
    "print(\"Size of X test:\", X_test.shape)\n",
    "print(\"Size of Y train:\", y_train.shape)\n",
    "print(\"Size of Y test:\", y_test.shape)"
   ]
  },
  {
   "cell_type": "code",
   "execution_count": 234,
   "id": "b4cc36c8-2ab1-4a0f-b599-2bc297084cb0",
   "metadata": {},
   "outputs": [],
   "source": [
    "class StandardScaler:\n",
    "    def __init__(self):\n",
    "        self.mean = None\n",
    "        self.stdev = None\n",
    "\n",
    "    def fit(self, X):\n",
    "        X = np.array(X)\n",
    "        \n",
    "        self.mean = np.mean(X, axis=0)\n",
    "        self.stdev = np.std(X, axis=0)\n",
    "        \n",
    "    def transform(self, X):\n",
    "        X = np.array(X)\n",
    "\n",
    "        X_normalized = (X - self.mean) / (self.stdev)\n",
    "        return X_normalized\n",
    "    \n",
    "scaler = StandardScaler()\n",
    "scaler.fit(X_train)\n",
    "\n",
    "X_train_normalized = scaler.transform(X_train)\n",
    "X_test_normalized = scaler.transform(X_test)"
   ]
  },
  {
   "cell_type": "markdown",
   "id": "331017de",
   "metadata": {
    "id": "331017de"
   },
   "source": [
    "## Part A: Implementation from Scratch  \n",
    "\n",
    "Create a class, and implement the functionality described below to create a fully fledged **Regularized Logistic Regression model.**\n",
    "\n",
    "* `sigmoid(x)`: This is the non-linear \"activation\" function that differentiates Logistic from plain-old Linear Regression. Refer to the formula from the slides. \n",
    "\n",
    "* `cross_entropy_loss(y_true, y_pred)`: This is the loss function that will help you calculate the gradients for updating your model. Note that this is a Binary Classification task so you can use the Binary Cross Entropy function mentioned in the slides. \n",
    "\n",
    "* `fit(x_train, y_train)`: This will be where you implement the Gradient Descent algorithm again, keeping in mind the differences between Linear and Logistic Regression. \n",
    "\n",
    "* `predict(x_test)`: predict whether the label is 0 or 1 for test reviews using learned logistic regression (use the decision threshold of 0.5) **Note: you need to return the probability and the predicted label from this function** \n",
    "\n",
    "* `evaluate(y_true, y_pred)` function that calculates classification accuracy, F1 Score and confusion matrix. "
   ]
  },
  {
   "cell_type": "code",
   "execution_count": 235,
   "id": "794011ae",
   "metadata": {
    "id": "794011ae"
   },
   "outputs": [],
   "source": [
    "class LogisticRegression:\n",
    "    def __init__(self, alpha, epochs, lambd):\n",
    "        self.alpha = alpha\n",
    "        self.epochs = epochs\n",
    "        self.lambd = lambd\n",
    "        self.thetas = None\n",
    "        self.loss_values = [] \n",
    "\n",
    "    def sigmoid(self, x):\n",
    "        sigmoid = 1 / (1 + np.exp(-x))\n",
    "        return sigmoid\n",
    "\n",
    "    def cross_entropy_loss(self, y_true, y_pred):\n",
    "        m = y_true.shape[0]\n",
    "        loss = ((-1 / m) * np.sum((y_true * np.log(y_pred)) + ((1 - y_true) * np.log(1 - y_pred)))) + (self.lambd * np.sum(np.abs(self.thetas[1:])))\n",
    "        return loss\n",
    "\n",
    "    def fit(self, x_train, y_train):\n",
    "        x_train = np.hstack((np.ones((x_train.shape[0], 1)), x_train))        \n",
    "        m = x_train.shape[0]\n",
    "        n = x_train.shape[1] \n",
    "        self.thetas = np.zeros(n)\n",
    "        \n",
    "        for i in range(self.epochs):\n",
    "            z = np.dot(x_train, self.thetas)\n",
    "            y_predicted = self.sigmoid(z)\n",
    "            \n",
    "            gradients = (1 / m) * np.dot(x_train.T, (y_predicted - y_train))\n",
    "            gradients[1:] = gradients[1:] + ((self.lambd) * np.sign(self.thetas[1:]))\n",
    "            \n",
    "            self.thetas = self.thetas - (self.alpha * gradients)\n",
    "            \n",
    "            loss = self.cross_entropy_loss(y_train, y_predicted)\n",
    "            self.loss_values.append(loss)\n",
    "\n",
    "    def predict(self, x_test):\n",
    "        x_test = np.hstack((np.ones((x_test.shape[0], 1)), x_test))        \n",
    "        probabilities = self.sigmoid(np.dot(x_test, self.thetas))\n",
    "        predicted_label = np.where(probabilities >= 0.5, 1, 0)        \n",
    "        return probabilities, predicted_label\n",
    "\n",
    "    def evaluate(self, y_true, y_pred):\n",
    "        accuracy = accuracy_score(y_true, y_pred)\n",
    "        f1 = f1_score(y_true, y_pred)\n",
    "        confusion_matrix_result = confusion_matrix(y_true, y_pred)\n",
    "        return accuracy, f1, confusion_matrix_result"
   ]
  },
  {
   "cell_type": "markdown",
   "id": "6b787df1",
   "metadata": {
    "id": "6b787df1"
   },
   "source": [
    "# Implement One vs All Classification  \n",
    "\n",
    "You need to build four classifiers, one for each class, and perform the following steps for each:\n",
    "\n",
    "1. Create a plot with the number of iterations/epochs on the x-axis and training/validation loss on the y-axis for the evaluation dataset that we separated previously.\n",
    "\n",
    "2. Tune the hyperparameters, i.e., learning rate and number of epochs, to minimize the validation loss."
   ]
  },
  {
   "cell_type": "code",
   "execution_count": 236,
   "id": "2c55a386",
   "metadata": {
    "id": "2c55a386",
    "scrolled": true
   },
   "outputs": [
    {
     "name": "stdout",
     "output_type": "stream",
     "text": [
      "Train Cross-Entropy Loss for class 0: 0.1181\n"
     ]
    },
    {
     "name": "stdout",
     "output_type": "stream",
     "text": [
      "Train Cross-Entropy Loss for class 1: 0.6164\n",
      "Train Cross-Entropy Loss for class 2: 0.1166\n"
     ]
    },
    {
     "data": {
      "image/png": "[encoded data removed]",
      "text/plain": [
       "<Figure size 1200x800 with 1 Axes>"
      ]
     },
     "metadata": {},
     "output_type": "display_data"
    }
   ],
   "source": [
    "# One-vs-Rest Classifiers\n",
    "classifiers = {}\n",
    "losses = {}  \n",
    "\n",
    "alpha = 0.5\n",
    "epochs = 500\n",
    "lambd = 0.001\n",
    "\n",
    "plt.figure(figsize=(12, 8))\n",
    "\n",
    "for i in range(3):    \n",
    "    y_binary = (y_train == i).astype(int) \n",
    "    classifier = LogisticRegression(alpha= alpha, epochs= epochs, lambd= lambd)\n",
    "    classifier.fit(X_train_normalized, y_binary)\n",
    "    classifiers[i] = classifier\n",
    "    losses[i] = classifier.loss_values\n",
    "\n",
    "    plt.plot(range(len(losses[i])), losses[i], label=f'Class {i}')\n",
    "    \n",
    "    y_train_probabilities, y_train_labels = classifier.predict(X_train_normalized)\n",
    "    train_cross_entropy = classifier.cross_entropy_loss(y_binary, y_train_probabilities)\n",
    "    print(f\"Train Cross-Entropy Loss for class {i}: {train_cross_entropy:.4f}\")\n",
    "\n",
    "plt.xlabel('Epochs')\n",
    "plt.ylabel('Training Loss')\n",
    "plt.title('Training Loss vs Epochs')\n",
    "plt.legend(loc='best')\n",
    "plt.grid(True)\n",
    "plt.show()"
   ]
  },
  {
   "cell_type": "markdown",
   "id": "f434bf54",
   "metadata": {
    "id": "f434bf54"
   },
   "source": [
    "# Evaluate  \n",
    "\n",
    "It's time to run your logistic regression model on the test dataset!\n",
    "\n",
    "- Report the accuracy, F1 score and confusion matrix for each binary classifier \n",
    "- Perform multiclass evaluation and report macro F1, accuracy and confusion matrix "
   ]
  },
  {
   "cell_type": "code",
   "execution_count": 237,
   "id": "4b2d1d5a",
   "metadata": {
    "id": "4b2d1d5a"
   },
   "outputs": [
    {
     "name": "stdout",
     "output_type": "stream",
     "text": [
      "   Class                                              Probs  Accuracy  \\\n",
      "0      0  [0.6655492944814225, 0.004740301062810128, 0.9...     0.960   \n",
      "1      1  [0.35323262728747357, 0.293938092720599, 0.240...     0.620   \n",
      "2      2  [0.0002927972271216079, 0.11116134756143833, 4...     0.955   \n",
      "\n",
      "   F1 Score     Confusion Matrix  \n",
      "0  0.936508  [[133, 6], [2, 59]]  \n",
      "1  0.000000  [[124, 0], [76, 0]]  \n",
      "2  0.930233  [[131, 6], [3, 60]]  \n"
     ]
    }
   ],
   "source": [
    "# Evaluate each binary classifier\n",
    "results = {\n",
    "    'Class': [],\n",
    "    'Probs':[],\n",
    "    'Accuracy': [],\n",
    "    'F1 Score': [],\n",
    "    'Confusion Matrix': []\n",
    "}\n",
    "\n",
    "for i in range(3):  \n",
    "    y_test_binary = (y_test == i).astype(int)  \n",
    "    y_test_probabilities, y_test_labels = classifiers[i].predict(X_test_normalized)  \n",
    "    accuracy, f1, cm = classifiers[i].evaluate(y_test_binary, y_test_labels)\n",
    "    \n",
    "    results['Class'].append(i)\n",
    "    results['Probs'].append(y_test_probabilities) \n",
    "    results['Accuracy'].append(accuracy)\n",
    "    results['F1 Score'].append(f1)\n",
    "    results['Confusion Matrix'].append(cm)\n",
    "\n",
    "results_df = pd.DataFrame(results)\n",
    "print(results_df)"
   ]
  },
  {
   "cell_type": "code",
   "execution_count": 238,
   "id": "c39a4178-add4-4489-a483-32b16ae8818d",
   "metadata": {},
   "outputs": [
    {
     "name": "stdout",
     "output_type": "stream",
     "text": [
      "   Class  Accuracy  F1 Score     Confusion Matrix\n",
      "0      0     0.960  0.936508  [[133, 6], [2, 59]]\n",
      "1      1     0.620  0.000000  [[124, 0], [76, 0]]\n",
      "2      2     0.955  0.930233  [[131, 6], [3, 60]]\n"
     ]
    }
   ],
   "source": [
    "results_df.drop('Probs', axis= 1, inplace=True)\n",
    "print(results_df)"
   ]
  },
  {
   "cell_type": "code",
   "execution_count": 239,
   "id": "aa5bd139-e747-492b-89fc-0e635a939f2c",
   "metadata": {},
   "outputs": [],
   "source": [
    "class_labels = ['Class 0: Most Likely Human', \n",
    "                'Class 1: Further Testing', \n",
    "                'Class 2: Most Likely Zombie']\n",
    "\n",
    "highest_probability_class = np.argmax(np.column_stack([results['Probs'][i] for i in range(3)]) , axis=1)  # Choose class with highest probability for each instance\n",
    "predicted_class_labels = [class_labels[label] for label in highest_probability_class]"
   ]
  },
  {
   "cell_type": "code",
   "execution_count": 240,
   "id": "bc12664e-422d-4125-9c68-c90a644603bf",
   "metadata": {},
   "outputs": [
    {
     "name": "stdout",
     "output_type": "stream",
     "text": [
      "Macro F1 Score: 88.53%\n",
      "Multiclass Accuracy: 88.50%\n",
      "Confusion Matrix for Multiclass Classification:\n",
      "[[61  0  0]\n",
      " [11 56  9]\n",
      " [ 0  3 60]]\n"
     ]
    }
   ],
   "source": [
    "macro_f1 = f1_score(y_test, highest_probability_class, average='macro')\n",
    "multiclass_accuracy = accuracy_score(y_test, highest_probability_class)\n",
    "multiclass_confusion_matrix = confusion_matrix(y_test, highest_probability_class)\n",
    "\n",
    "print(f\"Macro F1 Score: {macro_f1 * 100:.2f}%\")\n",
    "print(f\"Multiclass Accuracy: {multiclass_accuracy * 100:.2f}%\")\n",
    "print(\"Confusion Matrix for Multiclass Classification:\")\n",
    "print(multiclass_confusion_matrix)"
   ]
  },
  {
   "cell_type": "markdown",
   "id": "dc1f0697",
   "metadata": {
    "id": "dc1f0697"
   },
   "source": [
    "# Part B: Use Scikit-learn  \n",
    "\n",
    "In this part, use scikit-learn’s [Logistic Regression](https://scikit-learn.org/stable/modules/generated/sklearn.linear_model.LogisticRegression.html) implementation to train and test the logistic regression on the provided dataset.\n",
    "\n",
    "Use scikit-learn’s `accuracy_score` function to calculate the [accuracy](https://scikit-learn.org/stable/modules/generated/sklearn.metrics.accuracy_score.html), F1 score and [confusion_matrix](https://scikit-learn.org/stable/modules/generated/sklearn.metrics.confusion_matrix.html) function to calculate confusion matrix on test set.\n",
    "\n",
    "Finally, plot the confusion matrix"
   ]
  },
  {
   "cell_type": "code",
   "execution_count": 241,
   "id": "c7893b68",
   "metadata": {
    "id": "c7893b68"
   },
   "outputs": [
    {
     "name": "stdout",
     "output_type": "stream",
     "text": [
      "Accuracy: 91.00%\n",
      "Macro F1 Score: 91.17%\n",
      "Confusion Matrix:\n",
      "[[59  2  0]\n",
      " [ 6 64  6]\n",
      " [ 0  4 59]]\n"
     ]
    },
    {
     "data": {
      "image/png": "[encoded data removed]",
      "text/plain": [
       "<Figure size 640x480 with 2 Axes>"
      ]
     },
     "metadata": {},
     "output_type": "display_data"
    }
   ],
   "source": [
    "from sklearn.linear_model import LogisticRegression\n",
    "from sklearn.metrics import accuracy_score, f1_score, confusion_matrix, ConfusionMatrixDisplay\n",
    "\n",
    "LR_sklearn = LogisticRegression(multi_class= 'multinomial')\n",
    "LR_sklearn.fit(X_train_normalized, y_train)\n",
    "y_predicted = LR_sklearn .predict(X_test_normalized)\n",
    "\n",
    "accuracy = accuracy_score(y_test, y_predicted)\n",
    "macro_f1 = f1_score(y_test, y_predicted, average='macro')\n",
    "confusion_matrix_result = confusion_matrix(y_test, y_predicted)\n",
    "\n",
    "print(f\"Accuracy: {accuracy * 100:.2f}%\")\n",
    "print(f\"Macro F1 Score: {macro_f1 * 100:.2f}%\")\n",
    "print(\"Confusion Matrix:\")\n",
    "print(confusion_matrix_result)\n",
    "\n",
    "disp = ConfusionMatrixDisplay(confusion_matrix=confusion_matrix_result, display_labels=['Class 0', 'Class 1', 'Class 2'])\n",
    "disp.plot(cmap='Blues')\n",
    "plt.title(\"Confusion Matrix Human-Zombie Dataset\")\n",
    "plt.show()"
   ]
  },
  {
   "cell_type": "markdown",
   "id": "b01b1669-f564-4393-9a9d-1a563aa62e35",
   "metadata": {},
   "source": [
    "# Part C: Are You a Zombie?  \n",
    "Use your multiclass classifier to predict whether you are a zombie."
   ]
  },
  {
   "cell_type": "code",
   "execution_count": 242,
   "id": "33d64233-9b57-4995-8e00-220a75d4dac9",
   "metadata": {},
   "outputs": [],
   "source": [
    "height = 180              # Height in cm\n",
    "weight = 81              # Weight in kg\n",
    "screen_time = 8         # Screen time in hours per day\n",
    "junk_food_days = 3       # Junk food consumption in days per week\n",
    "physical_activity = 8    # Physical activity in hours per week\n",
    "task_completion = 8      # Task completion on a scale (example range: 1-10)"
   ]
  },
  {
   "cell_type": "code",
   "execution_count": 243,
   "id": "79ba3c22-e1e5-460f-b3c4-6ad578a8eae9",
   "metadata": {},
   "outputs": [],
   "source": [
    "test_point = np.array([height, weight, screen_time, junk_food_days, physical_activity, task_completion])\n",
    "test_point = scaler.transform(test_point)  "
   ]
  },
  {
   "cell_type": "code",
   "execution_count": 244,
   "id": "3c1379e7-1cfd-4b08-9c81-8698bb0aebab",
   "metadata": {},
   "outputs": [
    {
     "name": "stdout",
     "output_type": "stream",
     "text": [
      "Prediction: Human\n"
     ]
    }
   ],
   "source": [
    "labels = {0: \"Human\", 1: \"Needs Further Testing\", 2: \"Zombie\"}\n",
    "probs=[]\n",
    "for i in range(3):  \n",
    "    y_pred_class, prob = classifiers[i].predict(test_point.reshape(1,-1))    \n",
    "    probs.append(prob)\n",
    "combined_probs = np.column_stack([p for p in probs])\n",
    "multi_class_pred = np.argmax(combined_probs, axis=1)\n",
    "print(\"Prediction:\", labels[multi_class_pred[0]])"
   ]
  }
 ],
 "metadata": {
  "colab": {
   "provenance": []
  },
  "kernelspec": {
   "display_name": "Python 3",
   "language": "python",
   "name": "python3"
  },
  "language_info": {
   "codemirror_mode": {
    "name": "ipython",
    "version": 3
   },
   "file_extension": ".py",
   "mimetype": "text/x-python",
   "name": "python",
   "nbconvert_exporter": "python",
   "pygments_lexer": "ipython3",
   "version": "3.12.3"
  }
 },
 "nbformat": 4,
 "nbformat_minor": 5
}
